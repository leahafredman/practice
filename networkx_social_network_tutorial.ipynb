{
 "cells": [
  {
   "cell_type": "markdown",
   "metadata": {},
   "source": [
    "Notebook from this talk: https://www.youtube.com/watch?v=7fsreJMy_pI\n",
    "<br>Code is from the talk\n",
    "<br>Talk was about a previous version of the package, so I updated it (and tried to note for clarification) where I changed things"
   ]
  },
  {
   "cell_type": "code",
   "execution_count": null,
   "metadata": {
    "slideshow": {
     "slide_type": "slide"
    }
   },
   "outputs": [],
   "source": [
    "%reload_ext watermark\n",
    "%watermark -p pandas,networkx,numpy,matplotlib -v -n"
   ]
  },
  {
   "cell_type": "code",
   "execution_count": 85,
   "metadata": {
    "slideshow": {
     "slide_type": "slide"
    }
   },
   "outputs": [
    {
     "name": "stdout",
     "output_type": "stream",
     "text": [
      "hi\n"
     ]
    }
   ],
   "source": [
    "%reload_ext watermark\n",
    "%watermark -p pandas,networkx,numpy,matplotlib -v -n"
   ]
  },
  {
   "cell_type": "markdown",
   "metadata": {
    "slideshow": {
     "slide_type": "slide"
    }
   },
   "source": [
    "# Creating Graphs in NetworkX\n",
    "\n",
    "- Creating a graph object\n",
    "- Adding nodes and edges\n",
    "- Adding attributes\n",
    "- Loading in several data types"
   ]
  },
  {
   "cell_type": "code",
   "execution_count": 3,
   "metadata": {
    "slideshow": {
     "slide_type": "slide"
    }
   },
   "outputs": [],
   "source": [
    "import csv\n",
    "\n",
    "import networkx as nx \n",
    "import pandas as pd \n",
    "import matplotlib.pyplot as plt \n",
    "%matplotlib inline"
   ]
  },
  {
   "cell_type": "code",
   "execution_count": 73,
   "metadata": {
    "slideshow": {
     "slide_type": "slide"
    }
   },
   "outputs": [],
   "source": [
    "# Using the graph constructor to create an empty graph stored as G\n",
    "G = nx.Graph()\n"
   ]
  },
  {
   "cell_type": "code",
   "execution_count": 74,
   "metadata": {
    "slideshow": {
     "slide_type": "fragment"
    }
   },
   "outputs": [],
   "source": [
    "# Adding nodes\n",
    "#Either one at a time, here a node named \"1\"\n",
    "G.add_node(1)\n",
    "#More than one at a time\n",
    "G.add_nodes_from([2, 3])\n",
    "G.add_node(4)"
   ]
  },
  {
   "cell_type": "code",
   "execution_count": 75,
   "metadata": {
    "slideshow": {
     "slide_type": "fragment"
    }
   },
   "outputs": [
    {
     "data": {
      "text/plain": [
       "NodeView((1, 2, 3, 4))"
      ]
     },
     "execution_count": 75,
     "metadata": {},
     "output_type": "execute_result"
    }
   ],
   "source": [
    "G.nodes()"
   ]
  },
  {
   "cell_type": "markdown",
   "metadata": {
    "slideshow": {
     "slide_type": "skip"
    }
   },
   "source": [
    "⚠️  \n",
    "**Note**: In `networkx 2.0`, several methods now return iterators\n",
    "\n",
    "For more details see: https://networkx.github.io/documentation/development/reference/migration_guide_from_1.x_to_2.0.html"
   ]
  },
  {
   "cell_type": "code",
   "execution_count": 76,
   "metadata": {
    "slideshow": {
     "slide_type": "subslide"
    }
   },
   "outputs": [],
   "source": [
    "# adding an edge to the graph\n",
    "# listing the nodes I want connected with the edge\n",
    "\n",
    "G.add_edge(1, 2)"
   ]
  },
  {
   "cell_type": "code",
   "execution_count": 77,
   "metadata": {
    "slideshow": {
     "slide_type": "subslide"
    }
   },
   "outputs": [
    {
     "name": "stdout",
     "output_type": "stream",
     "text": [
      "Name: \n",
      "Type: Graph\n",
      "Number of nodes: 4\n",
      "Number of edges: 1\n",
      "Average degree:   0.5000\n"
     ]
    }
   ],
   "source": [
    "# get graph info\n",
    "#string with basic info\n",
    "print(nx.info(G))"
   ]
  },
  {
   "cell_type": "code",
   "execution_count": 78,
   "metadata": {
    "slideshow": {
     "slide_type": "subslide"
    }
   },
   "outputs": [
    {
     "data": {
      "image/png": "[encoded data removed]",
      "text/plain": [
       "<Figure size 432x288 with 1 Axes>"
      ]
     },
     "metadata": {},
     "output_type": "display_data"
    }
   ],
   "source": [
    "nx.draw(G, with_labels=True)"
   ]
  },
  {
   "cell_type": "markdown",
   "metadata": {
    "slideshow": {
     "slide_type": "slide"
    }
   },
   "source": [
    "## Adding and Inspecting Attributes"
   ]
  },
  {
   "cell_type": "code",
   "execution_count": 83,
   "metadata": {
    "slideshow": {
     "slide_type": "subslide"
    }
   },
   "outputs": [],
   "source": [
    "# add new attributes at creation\n",
    "# Adding a single new node with a favorite_color attribute\n",
    "G.add_node(5, favorite_color='blue')\n",
    "#Adding a few new nodes with an attribute by passing a list\n",
    "G.add_nodes_from([(6, {'favorite_color' : 'red'}),\n",
    "                  (7, {'favorite_color' :'purple'})])\n",
    "\n",
    "# Adding an attribute to an edge at its creation\n",
    "# talk says to use the code\n",
    "#G.add_edge(5, 6, {'relationship' : 'best friends'})\n",
    "#it throws an error, but this works:\n",
    "G.add_edge(5, 6, relationship = 'best friends')"
   ]
  },
  {
   "cell_type": "code",
   "execution_count": 84,
   "metadata": {
    "slideshow": {
     "slide_type": "fragment"
    }
   },
   "outputs": [
    {
     "name": "stdout",
     "output_type": "stream",
     "text": [
      "Node 5 attributes: {'favorite_color': 'blue'}\n",
      "Edge 5-6 attributes: [(5, 6, None)]\n",
      "Edge 5-6 attributes: {'relationship': 'best friends'}\n"
     ]
    }
   ],
   "source": [
    "# accessing node attributes\n",
    "#here accessing the attributes of node 5\n",
    "#talk says to use the code\n",
    "#print(\"Node 5 attributes:\", G.node[5])\n",
    "#but the current package version requires it to be 'nodes' and not 'node'\n",
    "print(\"Node 5 attributes:\", G.nodes[5])\n",
    "\n",
    "# accessing edge attributes\n",
    "# talk says to use the code\n",
    "#print(\"Edge 5-6 attributes:\", G.edge[5], [6])\n",
    "#it throws an error, but this works:\n",
    "print(\"Edge 5-6 attributes:\", G.edges(5, 6))\n",
    "#However it doesn't add the attribute data\n",
    "#to get that we need\n",
    "print(\"Edge 5-6 attributes:\", G.get_edge_data(5, 6))"
   ]
  },
  {
   "cell_type": "markdown",
   "metadata": {
    "slideshow": {
     "slide_type": "subslide"
    }
   },
   "source": [
    "### Adding Attributes for each existing node"
   ]
  },
  {
   "cell_type": "code",
   "execution_count": 86,
   "metadata": {
    "slideshow": {
     "slide_type": "fragment"
    }
   },
   "outputs": [],
   "source": [
    "#Adding information to the network with an attribute dictionary\n",
    "#Key is node label\n",
    "#attribute is the value that we want to add to that node\n",
    "favorite_foods = {\n",
    "    1 : 'pizza',\n",
    "    2 : 'mac and cheese',\n",
    "    3 : 'balogna sandwich',\n",
    "    4 : 'pizza',\n",
    "    5 : 'chocolate',\n",
    "    6 : 'pizza',\n",
    "    7 : 'bananas'\n",
    "}"
   ]
  },
  {
   "cell_type": "code",
   "execution_count": 88,
   "metadata": {
    "slideshow": {
     "slide_type": "fragment"
    }
   },
   "outputs": [],
   "source": [
    "#Passing the name of the graph, the name of the dictionary where the attributes live, and what we want to call that attribute that we're passing to the nodes\n",
    "#Past version was graph name, desired attribute name, dictionary name\n",
    "#nx.set_node_attributes(G, 'favorite_food', favorite_foods)\n",
    "nx.set_node_attributes(G, favorite_foods, 'favorite_food')"
   ]
  },
  {
   "cell_type": "code",
   "execution_count": 90,
   "metadata": {
    "slideshow": {
     "slide_type": "fragment"
    }
   },
   "outputs": [
    {
     "name": "stdout",
     "output_type": "stream",
     "text": [
      "Node 4's favorite food is pizza\n"
     ]
    }
   ],
   "source": [
    "#Previous version was G.node, current version is G.nodes\n",
    "print(\"Node 4's favorite food is %s\" % G.nodes[4]['favorite_food'])"
   ]
  },
  {
   "cell_type": "markdown",
   "metadata": {
    "slideshow": {
     "slide_type": "slide"
    }
   },
   "source": [
    "## Reading in Different Representations of Graphs\n",
    "Data for graphs and networks comes in many different representations.\n",
    "\n",
    "__Representations__:\n",
    "- Edge List\n",
    "- Adjacency Matrix\n",
    "- Adjacency List (not covered)\n",
    "- Incidence Matrix (not covered)\n",
    "\n",
    "__Note__: Representations are related to, but distinct from, the storage format. In our examples, we'll be loading our data from text files. You may also have network data stored as `JSON`, `GEXF`, or other formats. For more details, [check the docs](http://networkx.readthedocs.io/en/latest/reference/readwrite.html)."
   ]
  },
  {
   "cell_type": "markdown",
   "metadata": {
    "slideshow": {
     "slide_type": "slide"
    }
   },
   "source": [
    "### Grey's Anatomy Dataset\n",
    "![greys anatomy](http://www.netflixupdate.com/wp-content/uploads/2015/08/Greys-Anatomy-on-Netflix.jpg)\n",
    "\n",
    "The dataset we'll look at is a record of all \"romantic\" encounters between characters on the TV show Grey's Anatomy."
   ]
  },
  {
   "cell_type": "markdown",
   "metadata": {
    "slideshow": {
     "slide_type": "subslide"
    }
   },
   "source": [
    "### Edge Lists"
   ]
  },
  {
   "cell_type": "markdown",
   "metadata": {
    "slideshow": {
     "slide_type": "skip"
    }
   },
   "source": [
    "An edge list is a common way of representing a graph. This representation can be thought of as a list of tuples, where each tuple represents an edge between two of the nodes in your graph. The nodes of the graph can be inferred by taking the set of objects from all tuples."
   ]
  },
  {
   "cell_type": "markdown",
   "metadata": {
    "slideshow": {
     "slide_type": "skip"
    }
   },
   "source": [
    "You can infer/determine whether a graph is directed or weighted from an edge list.\n",
    "- __Weighted__: If edges appear more than once, or if an additional weight attribute is added as a 3rd column, the graph is weighted\n",
    "- __Directed__: If the \"From\" and \"To\" (often seen as \"Source\" and \"Target\") of an edge in the list is not arbitrary, it's a directed graph"
   ]
  },
  {
   "cell_type": "code",
   "execution_count": 95,
   "metadata": {
    "slideshow": {
     "slide_type": "fragment"
    }
   },
   "outputs": [
    {
     "name": "stdout",
     "output_type": "stream",
     "text": [
      "\"from\",\"to\"\r\n",
      "\"lexi\",\"sloan\"\r\n",
      "\"lexi\",\"karev\"\r\n",
      "\"owen\",\"yang\"\r\n",
      "\"owen\",\"altman\"\r\n",
      "\"sloan\",\"torres\"\r\n",
      "\"sloan\",\"altman\"\r\n",
      "\"torres\",\"arizona\"\r\n",
      "\"torres\",\"karev\"\r\n",
      "\"derek\",\"grey\"\r\n"
     ]
    }
   ],
   "source": [
    "# what does it look like? \n",
    "#my data are in the same folder as my notebook\n",
    "#got the data from the github of the talk that they mention at the beginning of the video\n",
    "!head ga_edgelist.csv"
   ]
  },
  {
   "cell_type": "code",
   "execution_count": 96,
   "metadata": {
    "slideshow": {
     "slide_type": "subslide"
    }
   },
   "outputs": [],
   "source": [
    "#reading the data in with the csv library\n",
    "#skipping the header row with next() \n",
    "#since it's just 'from' and 'to'\n",
    "#and we obviously don't want those as nodes in our graph\n",
    "#making a list out of all the edges\n",
    "edges = []\n",
    "with open('ga_edgelist.csv', 'r') as f:\n",
    "    filereader = csv.reader(f, delimiter=\",\", quotechar='\"')\n",
    "    next(filereader) # skips header row\n",
    "    for row in filereader:\n",
    "            edges.append(row)"
   ]
  },
  {
   "cell_type": "code",
   "execution_count": 108,
   "metadata": {
    "slideshow": {
     "slide_type": "fragment"
    }
   },
   "outputs": [
    {
     "data": {
      "text/plain": [
       "[['lexi', 'sloan'],\n",
       " ['lexi', 'karev'],\n",
       " ['owen', 'yang'],\n",
       " ['owen', 'altman'],\n",
       " ['sloan', 'torres']]"
      ]
     },
     "execution_count": 108,
     "metadata": {},
     "output_type": "execute_result"
    }
   ],
   "source": [
    "#examining the first 5 edges\n",
    "edges[0:5]"
   ]
  },
  {
   "cell_type": "code",
   "execution_count": 109,
   "metadata": {
    "slideshow": {
     "slide_type": "subslide"
    }
   },
   "outputs": [],
   "source": [
    "#creating a graph object from the edgelist\n",
    "GA = nx.from_edgelist(edges)"
   ]
  },
  {
   "cell_type": "code",
   "execution_count": 110,
   "metadata": {
    "slideshow": {
     "slide_type": "fragment"
    }
   },
   "outputs": [
    {
     "name": "stdout",
     "output_type": "stream",
     "text": [
      "Name: \n",
      "Type: Graph\n",
      "Number of nodes: 32\n",
      "Number of edges: 34\n",
      "Average degree:   2.1250\n"
     ]
    }
   ],
   "source": [
    "print(nx.info(GA))\n",
    "#average degree is average number of partners\n",
    "#which I assume is the same as average number of connections"
   ]
  },
  {
   "cell_type": "markdown",
   "metadata": {
    "slideshow": {
     "slide_type": "slide"
    }
   },
   "source": [
    "### Mediating Data Processing through `pandas`"
   ]
  },
  {
   "cell_type": "markdown",
   "metadata": {
    "slideshow": {
     "slide_type": "skip"
    }
   },
   "source": [
    "Often times the data we'll want to use will probably be analyzed beforehand with `pandas`. Reading in our data to a `DataFrame` first saves us a bit of time writng code to open the files due to `read_csv` having sensible defaults around quoted characters and header rows."
   ]
  },
  {
   "cell_type": "code",
   "execution_count": 111,
   "metadata": {
    "slideshow": {
     "slide_type": "fragment"
    }
   },
   "outputs": [
    {
     "data": {
      "text/html": [
       "<div>\n",
       "<style scoped>\n",
       "    .dataframe tbody tr th:only-of-type {\n",
       "        vertical-align: middle;\n",
       "    }\n",
       "\n",
       "    .dataframe tbody tr th {\n",
       "        vertical-align: top;\n",
       "    }\n",
       "\n",
       "    .dataframe thead th {\n",
       "        text-align: right;\n",
       "    }\n",
       "</style>\n",
       "<table border=\"1\" class=\"dataframe\">\n",
       "  <thead>\n",
       "    <tr style=\"text-align: right;\">\n",
       "      <th></th>\n",
       "      <th>from</th>\n",
       "      <th>to</th>\n",
       "    </tr>\n",
       "  </thead>\n",
       "  <tbody>\n",
       "    <tr>\n",
       "      <th>0</th>\n",
       "      <td>lexi</td>\n",
       "      <td>sloan</td>\n",
       "    </tr>\n",
       "    <tr>\n",
       "      <th>1</th>\n",
       "      <td>lexi</td>\n",
       "      <td>karev</td>\n",
       "    </tr>\n",
       "    <tr>\n",
       "      <th>2</th>\n",
       "      <td>owen</td>\n",
       "      <td>yang</td>\n",
       "    </tr>\n",
       "    <tr>\n",
       "      <th>3</th>\n",
       "      <td>owen</td>\n",
       "      <td>altman</td>\n",
       "    </tr>\n",
       "    <tr>\n",
       "      <th>4</th>\n",
       "      <td>sloan</td>\n",
       "      <td>torres</td>\n",
       "    </tr>\n",
       "  </tbody>\n",
       "</table>\n",
       "</div>"
      ],
      "text/plain": [
       "    from      to\n",
       "0   lexi   sloan\n",
       "1   lexi   karev\n",
       "2   owen    yang\n",
       "3   owen  altman\n",
       "4  sloan  torres"
      ]
     },
     "execution_count": 111,
     "metadata": {},
     "output_type": "execute_result"
    }
   ],
   "source": [
    "#We can skip the header row if we just import the data into python\n",
    "#and massage it there with something like pandas\n",
    "#reading the csv into a pandas dataframe\n",
    "ga_edges = pd.read_csv('ga_edgelist.csv')\n",
    "\n",
    "ga_edges.head()"
   ]
  },
  {
   "cell_type": "code",
   "execution_count": 112,
   "metadata": {
    "slideshow": {
     "slide_type": "subslide"
    }
   },
   "outputs": [],
   "source": [
    "#when creating a graph object from a pandas dataframe\n",
    "#Passing the method the data frame name, and the source--the starting node, and target--the ending node\n",
    "#Here the graph is undirected, so it doesn't really matter\n",
    "#But it would matter if the graph was directed\n",
    "#video says to use from_pandas_dataframe\n",
    "#but this was changed to from_pandas_edgelist in the package's newer version\n",
    "GA = nx.from_pandas_edgelist(ga_edges, source=\"from\", target=\"to\")\n"
   ]
  },
  {
   "cell_type": "code",
   "execution_count": 113,
   "metadata": {
    "slideshow": {
     "slide_type": "fragment"
    }
   },
   "outputs": [
    {
     "name": "stdout",
     "output_type": "stream",
     "text": [
      "Name: \n",
      "Type: Graph\n",
      "Number of nodes: 32\n",
      "Number of edges: 34\n",
      "Average degree:   2.1250\n"
     ]
    }
   ],
   "source": [
    "# validate info\n",
    "\n",
    "print(nx.info(GA))"
   ]
  },
  {
   "cell_type": "code",
   "execution_count": 114,
   "metadata": {
    "slideshow": {
     "slide_type": "subslide"
    }
   },
   "outputs": [
    {
     "data": {
      "image/png": "[encoded data removed]",
      "text/plain": [
       "<Figure size 432x288 with 1 Axes>"
      ]
     },
     "metadata": {},
     "output_type": "display_data"
    }
   ],
   "source": [
    "nx.draw(GA, with_labels=True)"
   ]
  },
  {
   "cell_type": "markdown",
   "metadata": {
    "slideshow": {
     "slide_type": "slide"
    }
   },
   "source": [
    "### Adjacency Matrices"
   ]
  },
  {
   "cell_type": "markdown",
   "metadata": {
    "slideshow": {
     "slide_type": "skip"
    }
   },
   "source": [
    "Another common way of representing graph data is through an `adjacency matrix` -- often referred to mathematically as `A`. This data structure is a square, `n x n` matrix where `n = number of nodes`. Each column and row in the matrix is a node. For any two nodes, `i` and `j` the value at `Aij` (row `i` and column `j`) represents the weight of the edge between nodes `i` and `j`.\n",
    "\n",
    "<br>If the graph is unweighted and undirected, then you just have a value of 1. <br>nx can tell from the matrix if it's two identical triangles with 0s and 1s that it's an unweighted and undirected graph, and won't duplicate connections, even though every connection is represented twice, because Aij and Aji will be identical."
   ]
  },
  {
   "cell_type": "code",
   "execution_count": 125,
   "metadata": {
    "slideshow": {
     "slide_type": "fragment"
    }
   },
   "outputs": [
    {
     "data": {
      "text/html": [
       "<div>\n",
       "<style scoped>\n",
       "    .dataframe tbody tr th:only-of-type {\n",
       "        vertical-align: middle;\n",
       "    }\n",
       "\n",
       "    .dataframe tbody tr th {\n",
       "        vertical-align: top;\n",
       "    }\n",
       "\n",
       "    .dataframe thead th {\n",
       "        text-align: right;\n",
       "    }\n",
       "</style>\n",
       "<table border=\"1\" class=\"dataframe\">\n",
       "  <thead>\n",
       "    <tr style=\"text-align: right;\">\n",
       "      <th></th>\n",
       "      <th>denny</th>\n",
       "      <th>kepner</th>\n",
       "      <th>grey</th>\n",
       "      <th>colin</th>\n",
       "      <th>finn</th>\n",
       "    </tr>\n",
       "  </thead>\n",
       "  <tbody>\n",
       "    <tr>\n",
       "      <th>denny</th>\n",
       "      <td>0.0</td>\n",
       "      <td>0.0</td>\n",
       "      <td>0.0</td>\n",
       "      <td>0.0</td>\n",
       "      <td>0.0</td>\n",
       "    </tr>\n",
       "    <tr>\n",
       "      <th>kepner</th>\n",
       "      <td>0.0</td>\n",
       "      <td>0.0</td>\n",
       "      <td>0.0</td>\n",
       "      <td>0.0</td>\n",
       "      <td>0.0</td>\n",
       "    </tr>\n",
       "    <tr>\n",
       "      <th>grey</th>\n",
       "      <td>0.0</td>\n",
       "      <td>0.0</td>\n",
       "      <td>0.0</td>\n",
       "      <td>0.0</td>\n",
       "      <td>1.0</td>\n",
       "    </tr>\n",
       "    <tr>\n",
       "      <th>colin</th>\n",
       "      <td>0.0</td>\n",
       "      <td>0.0</td>\n",
       "      <td>0.0</td>\n",
       "      <td>0.0</td>\n",
       "      <td>0.0</td>\n",
       "    </tr>\n",
       "    <tr>\n",
       "      <th>finn</th>\n",
       "      <td>0.0</td>\n",
       "      <td>0.0</td>\n",
       "      <td>1.0</td>\n",
       "      <td>0.0</td>\n",
       "      <td>0.0</td>\n",
       "    </tr>\n",
       "  </tbody>\n",
       "</table>\n",
       "</div>"
      ],
      "text/plain": [
       "        denny  kepner  grey  colin  finn\n",
       "denny     0.0     0.0   0.0    0.0   0.0\n",
       "kepner    0.0     0.0   0.0    0.0   0.0\n",
       "grey      0.0     0.0   0.0    0.0   1.0\n",
       "colin     0.0     0.0   0.0    0.0   0.0\n",
       "finn      0.0     0.0   1.0    0.0   0.0"
      ]
     },
     "execution_count": 125,
     "metadata": {},
     "output_type": "execute_result"
    }
   ],
   "source": [
    "ga_adj = pd.read_csv('ga_adj.csv', index_col=0)\n",
    "\n",
    "#video uses ix instead of iloc, which is currently depreciated\n",
    "ga_adj.iloc[0:5, 0:5]"
   ]
  },
  {
   "cell_type": "code",
   "execution_count": 127,
   "metadata": {
    "slideshow": {
     "slide_type": "subslide"
    }
   },
   "outputs": [],
   "source": [
    "#converting the dataframe to a numpy matrix with the values contained in it \n",
    "#and then creating a graph from that matrix\n",
    "GAAdj = nx.from_numpy_matrix(ga_adj.values)"
   ]
  },
  {
   "cell_type": "code",
   "execution_count": 25,
   "metadata": {
    "slideshow": {
     "slide_type": "subslide"
    }
   },
   "outputs": [
    {
     "name": "stdout",
     "output_type": "stream",
     "text": [
      "[0, 1, 2, 3, 4, 5, 6, 7, 8, 9, 10, 11, 12, 13, 14, 15, 16, 17, 18, 19, 20, 21, 22, 23, 24, 25, 26, 27, 28, 29, 30, 31]\n"
     ]
    }
   ],
   "source": [
    "# Numpy matrices don't have labels :(\n",
    "#this leads to a matrix without lables with just rows and columns\n",
    "#as we can see from the print out of the nodes\n",
    "print(GAAdj.nodes())"
   ]
  },
  {
   "cell_type": "code",
   "execution_count": 128,
   "metadata": {
    "slideshow": {
     "slide_type": "subslide"
    }
   },
   "outputs": [],
   "source": [
    "#to deal with not having labels we'll create a label mapping\n",
    "#we're creating attributes that are the node labels\n",
    "#so that we can refer to the labels by a name\n",
    "#we do this by combinig the nodes from this matrix with the column names from the original data frame with zip\n",
    "#we then create a dictionary out of them\n",
    "#which will have the current numbers index as the key\n",
    "#and the name labels from the dataframe as the values\n",
    "label_mapping = dict(zip(GAAdj.nodes(), ga_adj.columns))\n",
    "#we're going to pass the dictionary to relable the nodes in the current graph\n",
    "GAAdj = nx.relabel_nodes(GAAdj, label_mapping)"
   ]
  },
  {
   "cell_type": "code",
   "execution_count": 129,
   "metadata": {
    "slideshow": {
     "slide_type": "subslide"
    }
   },
   "outputs": [
    {
     "data": {
      "image/png": "[encoded data removed]",
      "text/plain": [
       "<Figure size 432x288 with 1 Axes>"
      ]
     },
     "metadata": {},
     "output_type": "display_data"
    }
   ],
   "source": [
    "nx.draw_spring(GAAdj, with_labels=True)"
   ]
  },
  {
   "cell_type": "markdown",
   "metadata": {
    "slideshow": {
     "slide_type": "subslide"
    }
   },
   "source": [
    "#### Are the two graphs the same? "
   ]
  },
  {
   "cell_type": "code",
   "execution_count": 130,
   "metadata": {
    "slideshow": {
     "slide_type": "subslide"
    }
   },
   "outputs": [
    {
     "name": "stdout",
     "output_type": "stream",
     "text": [
      "Edge List Graph\n",
      " Name: \n",
      "Type: Graph\n",
      "Number of nodes: 32\n",
      "Number of edges: 34\n",
      "Average degree:   2.1250\n",
      "\n",
      "Adj. Matrix Graph\n",
      " Name: \n",
      "Type: Graph\n",
      "Number of nodes: 32\n",
      "Number of edges: 34\n",
      "Average degree:   2.1250\n"
     ]
    }
   ],
   "source": [
    "# Easiest, least robust way to see whether the two graphs are the same:\n",
    "print(\"Edge List Graph\\n\", nx.info(GA))\n",
    "print(\"\\nAdj. Matrix Graph\\n\", nx.info(GAAdj))"
   ]
  },
  {
   "cell_type": "code",
   "execution_count": 131,
   "metadata": {
    "slideshow": {
     "slide_type": "fragment"
    }
   },
   "outputs": [
    {
     "name": "stdout",
     "output_type": "stream",
     "text": [
      "Isomorphic? True\n"
     ]
    }
   ],
   "source": [
    "# Fancy math way that checks additional conditions\n",
    "#like if all the same nodes are connected and the edges are the same\n",
    "print(\"Isomorphic?\", nx.is_isomorphic(GA, GAAdj))"
   ]
  },
  {
   "cell_type": "markdown",
   "metadata": {
    "slideshow": {
     "slide_type": "slide"
    }
   },
   "source": [
    "### Gotchas"
   ]
  },
  {
   "cell_type": "code",
   "execution_count": 132,
   "metadata": {
    "slideshow": {
     "slide_type": "subslide"
    }
   },
   "outputs": [
    {
     "name": "stdout",
     "output_type": "stream",
     "text": [
      "'denny' From Edge List Graph: {'izzie': {}}\n",
      "'denny' From Adjacency Matrix Graph: {'izzie': {'weight': 1.0}}\n"
     ]
    }
   ],
   "source": [
    "#If we want to print out the edges of a node, say 'denny'\n",
    "#we can call it using the dictionary notation\n",
    "#with the graph name as the dictionary, and node name in []\n",
    "#If you call it from adjaceny matrix though it will also display the weight\n",
    "print(\"'denny' From Edge List Graph:\", GA['denny'])\n",
    "print(\"'denny' From Adjacency Matrix Graph:\", GAAdj['denny'])"
   ]
  },
  {
   "cell_type": "markdown",
   "metadata": {
    "slideshow": {
     "slide_type": "fragment"
    }
   },
   "source": [
    "⚠️ __Observation__: Edge weights are inferred from adjacency matrix"
   ]
  },
  {
   "cell_type": "code",
   "execution_count": 133,
   "metadata": {
    "slideshow": {
     "slide_type": "subslide"
    }
   },
   "outputs": [
    {
     "name": "stdout",
     "output_type": "stream",
     "text": [
      "Sorted Edge Mismatch at edge 0: ('bailey', 'ben', {}) ('adele', 'chief', {'weight': 1.0})\n"
     ]
    }
   ],
   "source": [
    "#source and target are ambiguously defined in an undirected graph\n",
    "#we can test that these are different by converting the graph to an edgelist\n",
    "#graphs are the same, but it doesn't mean that the edgelists are\n",
    "#we're sorting the edgelists by the first column\n",
    "#which is the edgelist's source\n",
    "original_edgelist = sorted(nx.to_edgelist(GA))\n",
    "adjacency_edgelist = sorted(nx.to_edgelist(GAAdj))\n",
    "#go through each of those sorted lists\n",
    "#if the source is different between the two sorted lists point the mismatch out\n",
    "#we can see that the egelists didn't have everyone in the same order as the source because \n",
    "#they put that source as the target since it doesn't really matter\n",
    "for i, edge in enumerate(original_edgelist):\n",
    "    adjacency_edge = adjacency_edgelist[i]\n",
    "    if edge[0] != adjacency_edge[0]:\n",
    "        print(\"Sorted Edge Mismatch at edge %s:\" % i, edge, adjacency_edge)\n",
    "        break"
   ]
  },
  {
   "cell_type": "markdown",
   "metadata": {
    "slideshow": {
     "slide_type": "fragment"
    }
   },
   "source": [
    "⚠️  __Observation__: Source and Target are ambiguously defined in undirected graphs"
   ]
  },
  {
   "cell_type": "markdown",
   "metadata": {
    "slideshow": {
     "slide_type": "slide"
    }
   },
   "source": [
    "### Exporting Graphs\n",
    "We'll export the graph in `GEXF` (Graph Exchange XML Format)."
   ]
  },
  {
   "cell_type": "code",
   "execution_count": 134,
   "metadata": {
    "slideshow": {
     "slide_type": "fragment"
    }
   },
   "outputs": [],
   "source": [
    "nx.write_gexf(GA, 'ga_graph.gexf')"
   ]
  },
  {
   "cell_type": "code",
   "execution_count": 144,
   "metadata": {
    "slideshow": {
     "slide_type": "subslide"
    }
   },
   "outputs": [],
   "source": [
    "# apply the dead_or_alive mapping of desceased characters as a death attribute we'll call status\n",
    "#as before, with the new package this won't work because of the ordering nx.set_node_attributes(GA, 'status', dead_or_alive)\n",
    "nx.set_node_attributes(GA, dead_or_alive, 'status')"
   ]
  },
  {
   "cell_type": "markdown",
   "metadata": {
    "slideshow": {
     "slide_type": "slide"
    }
   },
   "source": [
    "# Visualizing Graphs\n",
    "\n",
    "- Basic NetworkX & Matplotlib (`nx.draw`)\n",
    "- Detailed Plotting w/ Networkx & Matplotlib\n",
    "    - Plotting attributes\n",
    "    \n",
    "<center><img src=\"https://i2.wp.com/flowingdata.com/wp-content/uploads/2015/07/Disney-strategy-chart-from-1957.jpg\" width=\"540\"></center>"
   ]
  },
  {
   "cell_type": "markdown",
   "metadata": {
    "slideshow": {
     "slide_type": "notes"
    }
   },
   "source": [
    "Vizualizing networks is a complicated problem -- how do you position the nodes and edges in a way such that no nodes overlap, connected nodes are near each other, none of the labels overlap? Typically we use what is called a *layout* to plot or visualize networks. A layout is an algorithm used to position nodes and edges on a plot automatically in aesthetically and informationally satisfactory ways.\n",
    "\n",
    "There are several different layout algorithms, but the most common is a *force-directed* layout. These layout algorithms are based off of physical repulsion and spring systems. In general, the rule for force-directed layouts is: repel all nodes, and model connections between nodes as 'springs', with the result that more connected nodes will be closer together.\n",
    "\n",
    "One important issue is that each layout typically has random initial conditions. Running a plot function twice will return two different plots, both following the rules of the algorithm, but differing due to the initial conditions of the layout."
   ]
  },
  {
   "cell_type": "code",
   "execution_count": 135,
   "metadata": {
    "slideshow": {
     "slide_type": "slide"
    }
   },
   "outputs": [],
   "source": [
    "import networkx as nx\n",
    "import matplotlib.pyplot as plt\n",
    "%matplotlib inline"
   ]
  },
  {
   "cell_type": "code",
   "execution_count": 137,
   "metadata": {
    "slideshow": {
     "slide_type": "subslide"
    }
   },
   "outputs": [
    {
     "name": "stdout",
     "output_type": "stream",
     "text": [
      "Name: \n",
      "Type: Graph\n",
      "Number of nodes: 32\n",
      "Number of edges: 34\n",
      "Average degree:   2.1250\n"
     ]
    }
   ],
   "source": [
    "#reading in the graph file\n",
    "#(the same one that we exported above)\n",
    "GA = nx.read_gexf('ga_graph.gexf')\n",
    "print(nx.info(GA))"
   ]
  },
  {
   "cell_type": "markdown",
   "metadata": {
    "slideshow": {
     "slide_type": "slide"
    }
   },
   "source": [
    "## NetworkX with Matplotlib\n",
    "\n",
    "Pros:\n",
    "- Easy\n",
    "- Some customization\n",
    "\n",
    "Cons:\n",
    "- Looks \"dated\" (not great for publication / productizing)\n",
    "- Not interactive\n",
    "- Few Layout Options"
   ]
  },
  {
   "cell_type": "code",
   "execution_count": 138,
   "metadata": {
    "slideshow": {
     "slide_type": "subslide"
    }
   },
   "outputs": [
    {
     "data": {
      "image/png": "[encoded data removed]",
      "text/plain": [
       "<Figure size 432x288 with 1 Axes>"
      ]
     },
     "metadata": {},
     "output_type": "display_data"
    }
   ],
   "source": [
    "# Easiest Way\n",
    "nx.draw(GA, with_labels=True)\n",
    "#with larger graphs the text will probably get in the way\n",
    "#so we'll likely want to turn it off"
   ]
  },
  {
   "cell_type": "code",
   "execution_count": 139,
   "metadata": {
    "slideshow": {
     "slide_type": "subslide"
    }
   },
   "outputs": [
    {
     "data": {
      "image/png": "[encoded data removed]",
      "text/plain": [
       "<Figure size 432x288 with 1 Axes>"
      ]
     },
     "metadata": {},
     "output_type": "display_data"
    }
   ],
   "source": [
    "# Graph Layouts are random...\n",
    "#this is why rerunning the same code and data twice\n",
    "#leads to graphs that look different even though they all follow the same rules\n",
    "#does make replication harder with these algorithms\n",
    "nx.draw(GA, with_labels=True)"
   ]
  },
  {
   "cell_type": "markdown",
   "metadata": {
    "slideshow": {
     "slide_type": "slide"
    }
   },
   "source": [
    "## NetworkX Detailed Plotting"
   ]
  },
  {
   "cell_type": "code",
   "execution_count": 140,
   "metadata": {
    "slideshow": {
     "slide_type": "subslide"
    }
   },
   "outputs": [
    {
     "data": {
      "image/png": "[encoded data removed]",
      "text/plain": [
       "<Figure size 576x576 with 1 Axes>"
      ]
     },
     "metadata": {},
     "output_type": "display_data"
    }
   ],
   "source": [
    "# Some matplotlib options\n",
    "#increasing the figure size \n",
    "#and turning the axes off because\n",
    "#we don't care about the coordinates of the nodes;\n",
    "#how they're laid out\n",
    "plt.figure(figsize=(8,8))\n",
    "plt.axis('off')\n",
    "\n",
    "#if you don't use a plain draw function\n",
    "# generate the layout and place nodes and edges and save it\n",
    "#because we then build upon it by adding different layers\n",
    "layout = nx.circular_layout(GA)\n",
    "\n",
    "# plot nodes, labels, and edges with options\n",
    "#passing the graph, the positioning, increasing the node size, \n",
    "#and adding a transparency alpha to the nodes\n",
    "nx.draw_networkx_nodes(GA, pos=layout, node_size=500, alpha=0.8)\n",
    "#now plotting the edges\n",
    "nx.draw_networkx_edges(GA, pos=layout, width=3, style='dotted',\n",
    "                       edge_color='orange')\n",
    "#drawing the labels\n",
    "nx.draw_networkx_labels(GA, pos=layout, font_size=15)\n",
    "#showing the plot\n",
    "plt.show()\n",
    "#you lose a lot of information about the layout and connections of the graph when plotting this way\n",
    "#doesn't prevent overlapping options"
   ]
  },
  {
   "cell_type": "markdown",
   "metadata": {
    "slideshow": {
     "slide_type": "slide"
    }
   },
   "source": [
    "## Detailed Plotting with Colors by Attribute"
   ]
  },
  {
   "cell_type": "code",
   "execution_count": 141,
   "metadata": {
    "slideshow": {
     "slide_type": "fragment"
    }
   },
   "outputs": [],
   "source": [
    "from seaborn import color_palette, set_style, palplot"
   ]
  },
  {
   "cell_type": "code",
   "execution_count": 142,
   "metadata": {
    "slideshow": {
     "slide_type": "skip"
    }
   },
   "outputs": [],
   "source": [
    "#where are the dead people in the show\n",
    "#are characters with a lot of connections often getting written out?\n",
    "dead_or_alive = {\n",
    "    'karev' : 'alive',\n",
    "    'hank' : 'alive',\n",
    "    'izzie' : 'alive',\n",
    "    'mrs. seabury' : 'alive',\n",
    "    'ben' : 'alive',\n",
    "    'grey' : 'alive',\n",
    "    'sloan' : 'dead',\n",
    "    'steve' : 'alive',\n",
    "    'kepner' : 'alive',\n",
    "    'colin' : 'alive',\n",
    "    'avery' : 'alive',\n",
    "    'bailey' : 'alive',\n",
    "    'chief' : 'alive',\n",
    "    'preston' : 'alive',\n",
    "    'ellis grey' : 'dead',\n",
    "    \"o'malley\" : 'dead',\n",
    "    'lexi' : 'dead',\n",
    "    'torres' : 'alive',\n",
    "    'yang' : 'alive',\n",
    "    'addison' : 'alive',\n",
    "    'olivia' : 'alive',\n",
    "    'altman' : 'alive',\n",
    "    'denny' : 'dead',\n",
    "    'arizona' : 'alive',\n",
    "    'adele' : 'dead',\n",
    "    'derek' : 'dead',\n",
    "    'nancy' : 'alive',\n",
    "    'thatch grey' : 'alive',\n",
    "    'susan grey' : 'dead',\n",
    "    'owen' : 'alive',\n",
    "    'tucker' : 'alive',\n",
    "    'finn' : 'alive'\n",
    "}"
   ]
  },
  {
   "cell_type": "markdown",
   "metadata": {
    "slideshow": {
     "slide_type": "subslide"
    }
   },
   "source": [
    "![spoiler alert](http://funnyand.com/wp-content/uploads/2014/09/Spoiler-Alert.jpg)\n",
    "``` python\n",
    "dead_or_alive = {\n",
    "    'karev' : 'alive',\n",
    "    'hank' : 'alive',\n",
    "    'sloan' : 'dead',\n",
    "    ...\n",
    "    'finn' : 'alive'\n",
    "    }\n",
    "``` "
   ]
  },
  {
   "cell_type": "code",
   "execution_count": 145,
   "metadata": {
    "slideshow": {
     "slide_type": "slide"
    }
   },
   "outputs": [],
   "source": [
    "#mapping the dead_or_alive dictionary onto the graph as an attribute named status for each node\n",
    "\n",
    "nx.set_node_attributes(GA, dead_or_alive, 'status')"
   ]
  },
  {
   "cell_type": "code",
   "execution_count": 166,
   "metadata": {},
   "outputs": [
    {
     "data": {
      "text/plain": [
       "['#0173b2', '#de8f05']"
      ]
     },
     "execution_count": 166,
     "metadata": {},
     "output_type": "execute_result"
    }
   ],
   "source": [
    "palette"
   ]
  },
  {
   "cell_type": "code",
   "execution_count": 163,
   "metadata": {
    "slideshow": {
     "slide_type": "subslide"
    }
   },
   "outputs": [],
   "source": [
    "#for plotting networkx expects a list of hex colors that match up to \n",
    "#the ordered set of nodes that we're dealing with\n",
    "\n",
    "#take in the graph and the attribute that you care about in the graph\n",
    "def create_color_map(G, attribute, seaborn_palette=\"colorblind\"):\n",
    "    \"\"\"Return a list of hex color mappings for node attributes\"\"\"\n",
    "    #creates a list of just the alive/dead statuses \n",
    "    attributes = [G.nodes[label][attribute] for label in G.nodes()]\n",
    "\n",
    "    # get the set of possible attributes\n",
    "    #i.e. the unique values in the list of desired attributes\n",
    "    attributes_unique = list(set(attributes))\n",
    "    #count the number of those attributes\n",
    "    num_values = len(attributes_unique)\n",
    "\n",
    "    # generate color palette from seaborn with the number of \n",
    "    #colors the same as the number of unique attributes \n",
    "    #here it's two because we have only dead or alive\n",
    "    palette = color_palette(seaborn_palette, num_values).as_hex()\n",
    "\n",
    "    # create a mapping of attribute to color\n",
    "    #by zipping together the two colors with the two unique attributes\n",
    "    #and creating a dictionary out of that\n",
    "    #with the hex code as the value for each status type key\n",
    "    color_map = dict(zip(attributes_unique, palette))\n",
    "\n",
    "    # map the attribute for each node to the color it represents\n",
    "    node_colors = [color_map[attribute] for attribute in attributes]\n",
    "\n",
    "    return node_colors, color_map, palette"
   ]
  },
  {
   "cell_type": "code",
   "execution_count": 164,
   "metadata": {
    "slideshow": {
     "slide_type": "fragment"
    }
   },
   "outputs": [],
   "source": [
    "node_colors, color_map, palette = create_color_map(GA, 'status')"
   ]
  },
  {
   "cell_type": "code",
   "execution_count": 167,
   "metadata": {
    "slideshow": {
     "slide_type": "subslide"
    }
   },
   "outputs": [
    {
     "data": {
      "image/png": "[encoded data removed]",
      "text/plain": [
       "<Figure size 720x720 with 1 Axes>"
      ]
     },
     "metadata": {},
     "output_type": "display_data"
    },
    {
     "name": "stdout",
     "output_type": "stream",
     "text": [
      "{'dead': '#0173b2', 'alive': '#de8f05'}\n"
     ]
    },
    {
     "data": {
      "image/png": "[encoded data removed]",
      "text/plain": [
       "<Figure size 144x72 with 1 Axes>"
      ]
     },
     "metadata": {},
     "output_type": "display_data"
    }
   ],
   "source": [
    "set_style('white')\n",
    "plt.figure(figsize=(10,10))\n",
    "plt.axis('off')\n",
    "\n",
    "layout = nx.spring_layout(GA)\n",
    "#passing the node colors that we selected above\n",
    "#in the helper function\n",
    "nx.draw_networkx_nodes(GA, layout, node_color=node_colors, node_size=500)\n",
    "nx.draw_networkx_labels(GA, pos=layout, font_size=16)\n",
    "nx.draw_networkx_edges(GA, layout, width=3)\n",
    "\n",
    "plt.show()\n",
    "\n",
    "# legend\n",
    "print(color_map)\n",
    "palplot(palette)"
   ]
  },
  {
   "cell_type": "markdown",
   "metadata": {
    "slideshow": {
     "slide_type": "slide"
    }
   },
   "source": [
    "## Other Visualization Options\n",
    "- [Plot.ly](https://plot.ly/ipython-notebooks/network-graphs/#)\n",
    "- [d3](https://bl.ocks.org/mbostock/4062045)\n",
    "- [Gephi](https://gephi.org/)\n",
    "- [Cytoscape / cyREST](https://github.com/idekerlab/vizbi-2015)\n",
    "- [python-igraph](http://igraph.org/python/)"
   ]
  },
  {
   "cell_type": "markdown",
   "metadata": {
    "slideshow": {
     "slide_type": "slide"
    }
   },
   "source": [
    "# Centrality\n",
    "\n",
    "- Definition of Centrality\n",
    "- Compare and contrast popular centrality measures on dataset\n",
    "    - Degree\n",
    "    - Closeness\n",
    "    - Betweenness\n",
    "    - Eigenvector\n",
    "\n",
    "<img width=\"500\" src=\"https://upload.wikimedia.org/wikipedia/commons/thumb/6/60/Graph_betweenness.svg/2000px-Graph_betweenness.svg.png\">"
   ]
  },
  {
   "cell_type": "code",
   "execution_count": 1,
   "metadata": {
    "collapsed": true,
    "slideshow": {
     "slide_type": "subslide"
    }
   },
   "outputs": [],
   "source": [
    "import networkx as nx\n",
    "import matplotlib.pyplot as plt\n",
    "%matplotlib inline"
   ]
  },
  {
   "cell_type": "code",
   "execution_count": 2,
   "metadata": {
    "collapsed": true,
    "slideshow": {
     "slide_type": "fragment"
    }
   },
   "outputs": [],
   "source": [
    "GA = nx.read_gexf('../data/ga_graph.gexf')"
   ]
  },
  {
   "cell_type": "markdown",
   "metadata": {
    "slideshow": {
     "slide_type": "slide"
    }
   },
   "source": [
    "## Degree Centrality\n",
    "\n",
    "The __degree__ of a node is the number of other nodes to which it is connected. \n",
    "\n",
    "![](https://www.openabm.org/files/books/1928/fig102.png)\n",
    "\n",
    "NetworkX's degree centrality is calculated by taking the degree of the node and dividing by `n-1` where where `n` is the number of nodes in `G`.\n",
    "\n",
    "$$ {C_D (u)} = \\frac{deg(u)}{{n-1}} $$\n",
    "\n",
    "⚠️ __NOTE__: `In a directed graph, both in-degree and out-degree centrality can be calculated.`"
   ]
  },
  {
   "cell_type": "markdown",
   "metadata": {
    "slideshow": {
     "slide_type": "skip"
    }
   },
   "source": [
    "Let's find the degree of our main character `Grey`."
   ]
  },
  {
   "cell_type": "code",
   "execution_count": 3,
   "metadata": {
    "slideshow": {
     "slide_type": "skip"
    }
   },
   "outputs": [
    {
     "data": {
      "text/plain": [
       "4"
      ]
     },
     "execution_count": 3,
     "metadata": {},
     "output_type": "execute_result"
    }
   ],
   "source": [
    "GA.degree(\"grey\")"
   ]
  },
  {
   "cell_type": "markdown",
   "metadata": {
    "slideshow": {
     "slide_type": "skip"
    }
   },
   "source": [
    "Likewise, we can find the degree of each cast member."
   ]
  },
  {
   "cell_type": "code",
   "execution_count": 4,
   "metadata": {
    "slideshow": {
     "slide_type": "skip"
    }
   },
   "outputs": [
    {
     "data": {
      "text/plain": [
       "{'addison': 3,\n",
       " 'adele': 1,\n",
       " 'altman': 2,\n",
       " 'arizona': 1,\n",
       " 'avery': 1,\n",
       " 'bailey': 2,\n",
       " 'ben': 1,\n",
       " 'chief': 2,\n",
       " 'colin': 1,\n",
       " 'denny': 1,\n",
       " 'derek': 2,\n",
       " 'ellis grey': 2,\n",
       " 'finn': 1,\n",
       " 'grey': 4,\n",
       " 'hank': 1,\n",
       " 'izzie': 4,\n",
       " 'karev': 7,\n",
       " 'kepner': 1,\n",
       " 'lexi': 3,\n",
       " 'mrs. seabury': 1,\n",
       " 'nancy': 1,\n",
       " \"o'malley\": 4,\n",
       " 'olivia': 2,\n",
       " 'owen': 2,\n",
       " 'preston': 1,\n",
       " 'sloan': 5,\n",
       " 'steve': 1,\n",
       " 'susan grey': 1,\n",
       " 'thatch grey': 2,\n",
       " 'torres': 4,\n",
       " 'tucker': 1,\n",
       " 'yang': 3}"
      ]
     },
     "execution_count": 4,
     "metadata": {},
     "output_type": "execute_result"
    }
   ],
   "source": [
    "# See all of them (ok on this small graph)\n",
    "GA.degree()"
   ]
  },
  {
   "cell_type": "code",
   "execution_count": 5,
   "metadata": {
    "slideshow": {
     "slide_type": "skip"
    }
   },
   "outputs": [
    {
     "data": {
      "text/plain": [
       "[('karev', 7), ('sloan', 5), ('grey', 4), (\"o'malley\", 4), ('izzie', 4)]"
      ]
     },
     "execution_count": 5,
     "metadata": {},
     "output_type": "execute_result"
    }
   ],
   "source": [
    "# Here's the top 5.\n",
    "sorted(GA.degree().items(), key=lambda x:x[1], reverse=True)[:5]"
   ]
  },
  {
   "cell_type": "markdown",
   "metadata": {
    "slideshow": {
     "slide_type": "notes"
    }
   },
   "source": [
    "While knowing the raw number is great, most centrality measures are _normalized_ between zero and one so that they can be more easily compared to one another.\n",
    "\n",
    "For the **degree centrality** measure, the normalized interpretion is really intuitive:  \n",
    "\n",
    "> _What percentage of nodes is this node connected to?_\n",
    "\n",
    "Or for our Grey's Anatomy example: \n",
    "\n",
    "> _What percentage of the cast has this character been invovled with?_\n",
    "\n",
    "\n"
   ]
  },
  {
   "cell_type": "markdown",
   "metadata": {
    "slideshow": {
     "slide_type": "skip"
    }
   },
   "source": [
    "Let's calculate the degree centrality for `Grey`."
   ]
  },
  {
   "cell_type": "code",
   "execution_count": 6,
   "metadata": {
    "slideshow": {
     "slide_type": "skip"
    }
   },
   "outputs": [
    {
     "name": "stdout",
     "output_type": "stream",
     "text": [
      "Calculated degree centrality for Grey: 0.12903225806451613\n",
      "Networkx degree centrality for Grey: 0.12903225806451613\n"
     ]
    },
    {
     "data": {
      "text/plain": [
       "'Values match, good job!'"
      ]
     },
     "execution_count": 6,
     "metadata": {},
     "output_type": "execute_result"
    }
   ],
   "source": [
    "# Degree for the 'Grey' node\n",
    "degree_grey = GA.degree(\"grey\")  # 4 romantic partners\n",
    "\n",
    "# Total number of nodes (excluding Grey) \n",
    "total_nodes_minus_grey = len(GA.nodes())-1  # 31 characters in the cast, excluding Grey\n",
    "\n",
    "# Degree centrality for Grey\n",
    "degree_centrality_grey = (degree_grey / total_nodes_minus_grey)\n",
    "print(\"Calculated degree centrality for Grey:\", degree_centrality_grey)\n",
    "\n",
    "# Double check\n",
    "print(\"Networkx degree centrality for Grey:\", nx.degree_centrality(GA)[\"grey\"])\n",
    "\n",
    "def check_equal(val1, val2):\n",
    "    assert (val1 == val2),\"Centrality measure calculated incorrectly!\"\n",
    "    return \"Values match, good job!\"\n",
    "\n",
    "check_equal(degree_centrality_grey, nx.degree_centrality(GA)[\"grey\"])"
   ]
  },
  {
   "cell_type": "markdown",
   "metadata": {
    "slideshow": {
     "slide_type": "skip"
    }
   },
   "source": [
    "Likewise, let's find the degree centrality for all characters."
   ]
  },
  {
   "cell_type": "code",
   "execution_count": 7,
   "metadata": {
    "slideshow": {
     "slide_type": "subslide"
    }
   },
   "outputs": [
    {
     "data": {
      "text/plain": [
       "{'addison': 0.0967741935483871,\n",
       " 'adele': 0.03225806451612903,\n",
       " 'altman': 0.06451612903225806,\n",
       " 'arizona': 0.03225806451612903,\n",
       " 'avery': 0.03225806451612903,\n",
       " 'bailey': 0.06451612903225806,\n",
       " 'ben': 0.03225806451612903,\n",
       " 'chief': 0.06451612903225806,\n",
       " 'colin': 0.03225806451612903,\n",
       " 'denny': 0.03225806451612903,\n",
       " 'derek': 0.06451612903225806,\n",
       " 'ellis grey': 0.06451612903225806,\n",
       " 'finn': 0.03225806451612903,\n",
       " 'grey': 0.12903225806451613,\n",
       " 'hank': 0.03225806451612903,\n",
       " 'izzie': 0.12903225806451613,\n",
       " 'karev': 0.22580645161290322,\n",
       " 'kepner': 0.03225806451612903,\n",
       " 'lexi': 0.0967741935483871,\n",
       " 'mrs. seabury': 0.03225806451612903,\n",
       " 'nancy': 0.03225806451612903,\n",
       " \"o'malley\": 0.12903225806451613,\n",
       " 'olivia': 0.06451612903225806,\n",
       " 'owen': 0.06451612903225806,\n",
       " 'preston': 0.03225806451612903,\n",
       " 'sloan': 0.16129032258064516,\n",
       " 'steve': 0.03225806451612903,\n",
       " 'susan grey': 0.03225806451612903,\n",
       " 'thatch grey': 0.06451612903225806,\n",
       " 'torres': 0.12903225806451613,\n",
       " 'tucker': 0.03225806451612903,\n",
       " 'yang': 0.0967741935483871}"
      ]
     },
     "execution_count": 7,
     "metadata": {},
     "output_type": "execute_result"
    }
   ],
   "source": [
    "degree_centrality = nx.degree_centrality(GA)\n",
    "degree_centrality"
   ]
  },
  {
   "cell_type": "code",
   "execution_count": 8,
   "metadata": {
    "slideshow": {
     "slide_type": "subslide"
    }
   },
   "outputs": [
    {
     "data": {
      "text/plain": [
       "[('karev', 0.22580645161290322),\n",
       " ('sloan', 0.16129032258064516),\n",
       " ('grey', 0.12903225806451613),\n",
       " (\"o'malley\", 0.12903225806451613),\n",
       " ('izzie', 0.12903225806451613)]"
      ]
     },
     "execution_count": 8,
     "metadata": {},
     "output_type": "execute_result"
    }
   ],
   "source": [
    "# Top 5.  Percent of cast this character has been with.\n",
    "sorted(degree_centrality.items(), key=lambda x: x[1], reverse=True)[:5]"
   ]
  },
  {
   "cell_type": "code",
   "execution_count": 9,
   "metadata": {
    "slideshow": {
     "slide_type": "fragment"
    }
   },
   "outputs": [
    {
     "data": {
      "text/plain": [
       "[('karev', 7), ('sloan', 5), ('grey', 4), (\"o'malley\", 4), ('izzie', 4)]"
      ]
     },
     "execution_count": 9,
     "metadata": {},
     "output_type": "execute_result"
    }
   ],
   "source": [
    "# Top 5.  Total # of partners this character has been with.\n",
    "sorted(GA.degree().items(), key=lambda x: x[1], reverse=True)[:5]"
   ]
  },
  {
   "cell_type": "code",
   "execution_count": 10,
   "metadata": {
    "collapsed": true,
    "slideshow": {
     "slide_type": "subslide"
    }
   },
   "outputs": [],
   "source": [
    "# apply measurements back to Graph\n",
    "nx.set_node_attributes(GA, 'degree centrality', degree_centrality)"
   ]
  },
  {
   "cell_type": "code",
   "execution_count": 11,
   "metadata": {
    "slideshow": {
     "slide_type": "fragment"
    }
   },
   "outputs": [
    {
     "data": {
      "text/plain": [
       "{'degree centrality': 0.22580645161290322, 'label': 'karev'}"
      ]
     },
     "execution_count": 11,
     "metadata": {},
     "output_type": "execute_result"
    }
   ],
   "source": [
    "GA.node['karev']"
   ]
  },
  {
   "cell_type": "markdown",
   "metadata": {
    "slideshow": {
     "slide_type": "slide"
    }
   },
   "source": [
    "## Closeness Centrality\n",
    "Closeness Centrality measures how many \"hops\" it would take to reach every other node in a network (taking the shortest path). It can be informally thought as 'average distance' to all other nodes.\n",
    "\n",
    "<img style=\"float: center\" src=\"https://toreopsahl.files.wordpress.com/2008/12/geodesic-n1.png?w=455\">\n",
    "\n",
    "In NetworkX, it the reciporical of of the *average* value, which normalizes the value in a 0 to 1 range. \n",
    "\n",
    "$$ C_C (u) = \\frac{n - 1}{\\sum_{v=1}^{n-1} d(v, u)} $$\n",
    "\n",
    "If you again take the reciporical of this, you'll find the *average* distance to all other nodes."
   ]
  },
  {
   "cell_type": "markdown",
   "metadata": {
    "slideshow": {
     "slide_type": "notes"
    }
   },
   "source": [
    "\n",
    "⚠️ __NOTE__: `If the graph is not completely connected, this algorithm computes the closeness centrality for each connected part separately.  The closeness centrality is normalized to (n-1)/(|G|-1) where n is the number of nodes in the connected part of graph containing the node.` [[Source](https://networkx.github.io/documentation/development/_modules/networkx/algorithms/centrality/closeness.html)]"
   ]
  },
  {
   "cell_type": "markdown",
   "metadata": {
    "slideshow": {
     "slide_type": "notes"
    }
   },
   "source": [
    "__Why should we care about closeness centrality?__\n",
    "\n",
    "> Degree centrality measures might be criticized because they only take into account the immediate ties that an actor has, or the ties of the actor's neighbors, rather than indirect ties to all others. One actor might be tied to a large number of others, but those others might be rather disconnected from the network as a whole. In a case like this, the actor could be quite central, but only in a local neighborhood. [[Source](http://www.faculty.ucr.edu/~hanneman/nettext/C10_Centrality.html#Closeness)]\n",
    "\n",
    "In our example, closeness centrality could perhaps help us understand which characters have the greatest potential to spread an infectous disease or STD across the cast (an admittedly dark plot arc)."
   ]
  },
  {
   "cell_type": "markdown",
   "metadata": {
    "slideshow": {
     "slide_type": "skip"
    }
   },
   "source": [
    "Let's calculate the closeness centrality for `Grey`.  First we'll start by getting the shortest paths between `Grey` and all other characters."
   ]
  },
  {
   "cell_type": "code",
   "execution_count": 12,
   "metadata": {
    "slideshow": {
     "slide_type": "skip"
    }
   },
   "outputs": [
    {
     "data": {
      "text/plain": [
       "{'addison': 2,\n",
       " 'altman': 4,\n",
       " 'arizona': 3,\n",
       " 'avery': 5,\n",
       " 'colin': 7,\n",
       " 'denny': 3,\n",
       " 'derek': 1,\n",
       " 'finn': 1,\n",
       " 'grey': 0,\n",
       " 'hank': 3,\n",
       " 'izzie': 2,\n",
       " 'karev': 3,\n",
       " 'kepner': 4,\n",
       " 'lexi': 4,\n",
       " 'mrs. seabury': 4,\n",
       " 'nancy': 4,\n",
       " \"o'malley\": 1,\n",
       " 'olivia': 2,\n",
       " 'owen': 5,\n",
       " 'preston': 7,\n",
       " 'sloan': 3,\n",
       " 'steve': 1,\n",
       " 'torres': 2,\n",
       " 'yang': 6}"
      ]
     },
     "execution_count": 12,
     "metadata": {},
     "output_type": "execute_result"
    }
   ],
   "source": [
    "# Shortest path between Grey and other characters\n",
    "grey_shortest_path = nx.shortest_path_length(GA)['grey']\n",
    "grey_shortest_path"
   ]
  },
  {
   "cell_type": "code",
   "execution_count": 13,
   "metadata": {
    "slideshow": {
     "slide_type": "skip"
    }
   },
   "outputs": [
    {
     "name": "stdout",
     "output_type": "stream",
     "text": [
      "Calculated closeness centrality for Grey: 0.4025974025974026\n",
      "Networkx closeness centrality for Grey: 0.2216170925848345\n"
     ]
    },
    {
     "ename": "AssertionError",
     "evalue": "Centrality measure calculated incorrectly!",
     "output_type": "error",
     "traceback": [
      "\u001b[0;31m---------------------------------------------------------------------------\u001b[0m",
      "\u001b[0;31mAssertionError\u001b[0m                            Traceback (most recent call last)",
      "\u001b[0;32m<ipython-input-13-fc22a437e78e>\u001b[0m in \u001b[0;36m<module>\u001b[0;34m()\u001b[0m\n\u001b[1;32m      9\u001b[0m \u001b[0mprint\u001b[0m\u001b[0;34m(\u001b[0m\u001b[0;34m\"Networkx closeness centrality for Grey:\"\u001b[0m\u001b[0;34m,\u001b[0m \u001b[0mnx\u001b[0m\u001b[0;34m.\u001b[0m\u001b[0mcloseness_centrality\u001b[0m\u001b[0;34m(\u001b[0m\u001b[0mGA\u001b[0m\u001b[0;34m)\u001b[0m\u001b[0;34m[\u001b[0m\u001b[0;34m\"grey\"\u001b[0m\u001b[0;34m]\u001b[0m\u001b[0;34m)\u001b[0m\u001b[0;34m\u001b[0m\u001b[0m\n\u001b[1;32m     10\u001b[0m \u001b[0;34m\u001b[0m\u001b[0m\n\u001b[0;32m---> 11\u001b[0;31m \u001b[0mcheck_equal\u001b[0m\u001b[0;34m(\u001b[0m\u001b[0mcloseness_centrality_grey\u001b[0m\u001b[0;34m,\u001b[0m \u001b[0mnx\u001b[0m\u001b[0;34m.\u001b[0m\u001b[0mcloseness_centrality\u001b[0m\u001b[0;34m(\u001b[0m\u001b[0mGA\u001b[0m\u001b[0;34m)\u001b[0m\u001b[0;34m[\u001b[0m\u001b[0;34m\"grey\"\u001b[0m\u001b[0;34m]\u001b[0m\u001b[0;34m)\u001b[0m\u001b[0;34m\u001b[0m\u001b[0m\n\u001b[0m",
      "\u001b[0;32m<ipython-input-6-ebc10af03687>\u001b[0m in \u001b[0;36mcheck_equal\u001b[0;34m(val1, val2)\u001b[0m\n\u001b[1;32m     13\u001b[0m \u001b[0;34m\u001b[0m\u001b[0m\n\u001b[1;32m     14\u001b[0m \u001b[0;32mdef\u001b[0m \u001b[0mcheck_equal\u001b[0m\u001b[0;34m(\u001b[0m\u001b[0mval1\u001b[0m\u001b[0;34m,\u001b[0m \u001b[0mval2\u001b[0m\u001b[0;34m)\u001b[0m\u001b[0;34m:\u001b[0m\u001b[0;34m\u001b[0m\u001b[0m\n\u001b[0;32m---> 15\u001b[0;31m     \u001b[0;32massert\u001b[0m \u001b[0;34m(\u001b[0m\u001b[0mval1\u001b[0m \u001b[0;34m==\u001b[0m \u001b[0mval2\u001b[0m\u001b[0;34m)\u001b[0m\u001b[0;34m,\u001b[0m\u001b[0;34m\"Centrality measure calculated incorrectly!\"\u001b[0m\u001b[0;34m\u001b[0m\u001b[0m\n\u001b[0m\u001b[1;32m     16\u001b[0m     \u001b[0;32mreturn\u001b[0m \u001b[0;34m\"Values match, good job!\"\u001b[0m\u001b[0;34m\u001b[0m\u001b[0m\n\u001b[1;32m     17\u001b[0m \u001b[0;34m\u001b[0m\u001b[0m\n",
      "\u001b[0;31mAssertionError\u001b[0m: Centrality measure calculated incorrectly!"
     ]
    }
   ],
   "source": [
    "# Sum of the shortest paths to all other characters\n",
    "grey_sum_shortest_path = sum(grey_shortest_path.values())  # 77\n",
    "\n",
    "# Closeness centrality for Grey\n",
    "closeness_centrality_grey = (total_nodes_minus_grey / grey_sum_shortest_path)\n",
    "print(\"Calculated closeness centrality for Grey:\", closeness_centrality_grey)\n",
    "\n",
    "# Double check\n",
    "print(\"Networkx closeness centrality for Grey:\", nx.closeness_centrality(GA)[\"grey\"])\n",
    "\n",
    "check_equal(closeness_centrality_grey, nx.closeness_centrality(GA)[\"grey\"])"
   ]
  },
  {
   "cell_type": "markdown",
   "metadata": {
    "slideshow": {
     "slide_type": "skip"
    }
   },
   "source": [
    "Interesting...our calculated measure is not the same as the one in NetworkX.  \n",
    "\n",
    "_What happened here?_\n",
    "\n",
    "This error occured because __the character relationship graph is not fully connected.__ (i.e., there are groups of characters that do not have relationships with one another)."
   ]
  },
  {
   "cell_type": "code",
   "execution_count": 14,
   "metadata": {
    "slideshow": {
     "slide_type": "skip"
    }
   },
   "outputs": [
    {
     "data": {
      "text/plain": [
       "[{'addison',\n",
       "  'altman',\n",
       "  'arizona',\n",
       "  'avery',\n",
       "  'colin',\n",
       "  'denny',\n",
       "  'derek',\n",
       "  'finn',\n",
       "  'grey',\n",
       "  'hank',\n",
       "  'izzie',\n",
       "  'karev',\n",
       "  'kepner',\n",
       "  'lexi',\n",
       "  'mrs. seabury',\n",
       "  'nancy',\n",
       "  \"o'malley\",\n",
       "  'olivia',\n",
       "  'owen',\n",
       "  'preston',\n",
       "  'sloan',\n",
       "  'steve',\n",
       "  'torres',\n",
       "  'yang'},\n",
       " {'adele', 'chief', 'ellis grey', 'susan grey', 'thatch grey'},\n",
       " {'bailey', 'ben', 'tucker'}]"
      ]
     },
     "execution_count": 14,
     "metadata": {},
     "output_type": "execute_result"
    }
   ],
   "source": [
    "# View members of different subgraphs\n",
    "sorted(nx.connected_components(GA), key = len, reverse=True)"
   ]
  },
  {
   "cell_type": "markdown",
   "metadata": {
    "slideshow": {
     "slide_type": "skip"
    }
   },
   "source": [
    "To correct for this, we will use the number of nodes in the `Grey` subgraph instead of the total number of nodes to calculated degree centrality.  Additionally, we'll normalized to `(n-1)/(|G|-1)` where `n` is the number of nodes in the connected part of graph containing the node."
   ]
  },
  {
   "cell_type": "code",
   "execution_count": 15,
   "metadata": {
    "slideshow": {
     "slide_type": "skip"
    }
   },
   "outputs": [
    {
     "name": "stdout",
     "output_type": "stream",
     "text": [
      "Calculated closeness centrality for Grey (normalized): 0.2216170925848345\n",
      "Networkx closeness centrality for Grey: 0.2216170925848345\n"
     ]
    },
    {
     "data": {
      "text/plain": [
       "'Values match, good job!'"
      ]
     },
     "execution_count": 15,
     "metadata": {},
     "output_type": "execute_result"
    }
   ],
   "source": [
    "# Number of nodes in Grey subgraph, excluding Grey\n",
    "total_nodes_minus_grey_sub = len(grey_shortest_path)-1   # 23\n",
    "\n",
    "# Closeness centrality for Grey (unnormalized)\n",
    "closeness_centrality_grey = (total_nodes_minus_grey_sub / grey_sum_shortest_path)   # ~0.2987\n",
    "\n",
    "# Closeness centrality for Grey (normalized)\n",
    "closeness_centrality_grey_normalized = closeness_centrality_grey * (total_nodes_minus_grey_sub/total_nodes_minus_grey)\n",
    "print(\"Calculated closeness centrality for Grey (normalized):\", closeness_centrality_grey_normalized)\n",
    "\n",
    "# Double check\n",
    "print(\"Networkx closeness centrality for Grey:\", nx.closeness_centrality(GA)[\"grey\"])\n",
    "\n",
    "check_equal(closeness_centrality_grey_normalized, nx.closeness_centrality(GA)[\"grey\"])"
   ]
  },
  {
   "cell_type": "markdown",
   "metadata": {
    "slideshow": {
     "slide_type": "skip"
    }
   },
   "source": [
    "Let's find the closeness centrality for all characters."
   ]
  },
  {
   "cell_type": "code",
   "execution_count": 16,
   "metadata": {
    "slideshow": {
     "slide_type": "subslide"
    }
   },
   "outputs": [
    {
     "data": {
      "text/plain": [
       "{'addison': 0.2892290869327502,\n",
       " 'adele': 0.05161290322580645,\n",
       " 'altman': 0.2337604949182501,\n",
       " 'arizona': 0.21600653327888933,\n",
       " 'avery': 0.19614386355209493,\n",
       " 'bailey': 0.06451612903225806,\n",
       " 'ben': 0.04301075268817204,\n",
       " 'chief': 0.07373271889400922,\n",
       " 'colin': 0.13228307076769194,\n",
       " 'denny': 0.18752215526409075,\n",
       " 'derek': 0.2337604949182501,\n",
       " 'ellis grey': 0.08602150537634408,\n",
       " 'finn': 0.17236884978820463,\n",
       " 'grey': 0.2216170925848345,\n",
       " 'hank': 0.18752215526409075,\n",
       " 'izzie': 0.24731182795698925,\n",
       " 'karev': 0.2892290869327502,\n",
       " 'kepner': 0.21067303863002787,\n",
       " 'lexi': 0.26253101736972706,\n",
       " 'mrs. seabury': 0.21067303863002787,\n",
       " 'nancy': 0.21067303863002787,\n",
       " \"o'malley\": 0.2708653353814644,\n",
       " 'olivia': 0.2337604949182501,\n",
       " 'owen': 0.19173613628126135,\n",
       " 'preston': 0.13228307076769194,\n",
       " 'sloan': 0.2892290869327502,\n",
       " 'steve': 0.17236884978820463,\n",
       " 'susan grey': 0.05161290322580645,\n",
       " 'thatch grey': 0.07373271889400922,\n",
       " 'torres': 0.29937747594793435,\n",
       " 'tucker': 0.04301075268817204,\n",
       " 'yang': 0.1594814591498342}"
      ]
     },
     "execution_count": 16,
     "metadata": {},
     "output_type": "execute_result"
    }
   ],
   "source": [
    "closeness_centrality = nx.closeness_centrality(GA)\n",
    "closeness_centrality"
   ]
  },
  {
   "cell_type": "code",
   "execution_count": 17,
   "metadata": {
    "slideshow": {
     "slide_type": "subslide"
    }
   },
   "outputs": [
    {
     "data": {
      "text/plain": [
       "[('torres', 0.29937747594793435),\n",
       " ('sloan', 0.2892290869327502),\n",
       " ('addison', 0.2892290869327502),\n",
       " ('karev', 0.2892290869327502),\n",
       " (\"o'malley\", 0.2708653353814644)]"
      ]
     },
     "execution_count": 17,
     "metadata": {},
     "output_type": "execute_result"
    }
   ],
   "source": [
    "# top 5\n",
    "sorted(closeness_centrality.items(), key=lambda x: x[1], reverse=True)[:5]"
   ]
  },
  {
   "cell_type": "code",
   "execution_count": 18,
   "metadata": {
    "collapsed": true,
    "slideshow": {
     "slide_type": "skip"
    }
   },
   "outputs": [],
   "source": [
    "# apply measurements back to Graph\n",
    "nx.set_node_attributes(GA, 'closeness centrality', closeness_centrality)"
   ]
  },
  {
   "cell_type": "code",
   "execution_count": 19,
   "metadata": {
    "slideshow": {
     "slide_type": "fragment"
    }
   },
   "outputs": [
    {
     "data": {
      "text/plain": [
       "3.340264650283554"
      ]
     },
     "execution_count": 19,
     "metadata": {},
     "output_type": "execute_result"
    }
   ],
   "source": [
    "# average distance of torres:\n",
    "1 / closeness_centrality['torres']"
   ]
  },
  {
   "cell_type": "code",
   "execution_count": 20,
   "metadata": {
    "slideshow": {
     "slide_type": "skip"
    }
   },
   "outputs": [
    {
     "data": {
      "text/plain": [
       "0.22580645161290322"
      ]
     },
     "execution_count": 20,
     "metadata": {},
     "output_type": "execute_result"
    }
   ],
   "source": [
    "7/(len(GA.nodes()) - 1)"
   ]
  },
  {
   "cell_type": "markdown",
   "metadata": {
    "slideshow": {
     "slide_type": "slide"
    }
   },
   "source": [
    "## Betweeness Centrality\n",
    "\n",
    "Betweenness centrality quantifies the number of times a node acts as a bridge (or \"broker\") along the shortest path between two other nodes.  \n",
    "\n",
    "![](https://intl520-summer2011-mas.wikispaces.com/file/view/Simple_Network.gif/238734999/480x360/Simple_Network.gif)\n",
    "\n",
    "In this conception, vertices that have a high probability to occur on a randomly chosen shortest path between two randomly chosen vertices have a high betweenness.\n",
    "\n",
    "$$ C_B(v) =\\sum_{s,t \\in V} \\frac{\\sigma(s, t|v)}{\\sigma(s, t)} $$\n",
    "\n",
    "where ${\\sigma(s, t)}$ is total number of shortest paths from node ${s}$ to node ${t}$ and ${\\sigma(s, t|v)}$ is the number of those paths that pass through ${v}$."
   ]
  },
  {
   "cell_type": "markdown",
   "metadata": {
    "slideshow": {
     "slide_type": "notes"
    }
   },
   "source": [
    "__Why is betweeness centrality important?__\n",
    "\n",
    "> Suppose that I want to influence you by sending you information, or make a deal to exchange some resources. But, in order to talk to you, I must go through an intermediary. For example, let's suppose that I wanted to try to convince the Chancellor of my university to buy me a new computer. According to the rules of our bureaucratic hierarchy, I must forward my request through my department chair, a dean, and an executive vice chancellor. Each one of these people could delay the request, or even prevent my request from getting through. This gives the people who lie \"between\" me and the Chancellor power with respect to me... Having more than one channel makes me less dependent, and, in a sense, more powerful.  [[Source](http://www.faculty.ucr.edu/~hanneman/nettext/C10_Centrality.html#Closeness)]\n",
    "\n",
    "While this metric seems less relevent to our particular network, let's create a hypothetical situation:\n",
    "\n",
    "To engage with a new romantic partner, you needed permission from at least one of their former partners and you could only send your request through existing partners (_awkward_ 😬).  Betweeness centrality would tell you which actors had the most effective veto power to thwart random requests made by a member to another random member in the network."
   ]
  },
  {
   "cell_type": "code",
   "execution_count": 21,
   "metadata": {
    "slideshow": {
     "slide_type": "subslide"
    }
   },
   "outputs": [
    {
     "data": {
      "text/plain": [
       "{'addison': 0.09480286738351254,\n",
       " 'adele': 0.0,\n",
       " 'altman': 0.16344086021505377,\n",
       " 'arizona': 0.0,\n",
       " 'avery': 0.0,\n",
       " 'bailey': 0.002150537634408602,\n",
       " 'ben': 0.0,\n",
       " 'chief': 0.0064516129032258064,\n",
       " 'colin': 0.0,\n",
       " 'denny': 0.0,\n",
       " 'derek': 0.03860215053763442,\n",
       " 'ellis grey': 0.008602150537634409,\n",
       " 'finn': 0.0,\n",
       " 'grey': 0.10078853046594982,\n",
       " 'hank': 0.0,\n",
       " 'izzie': 0.10311827956989247,\n",
       " 'karev': 0.20487455197132612,\n",
       " 'kepner': 0.0,\n",
       " 'lexi': 0.07741935483870968,\n",
       " 'mrs. seabury': 0.0,\n",
       " 'nancy': 0.0,\n",
       " \"o'malley\": 0.11702508960573478,\n",
       " 'olivia': 0.01064516129032258,\n",
       " 'owen': 0.12903225806451613,\n",
       " 'preston': 0.0,\n",
       " 'sloan': 0.248100358422939,\n",
       " 'steve': 0.0,\n",
       " 'susan grey': 0.0,\n",
       " 'thatch grey': 0.0064516129032258064,\n",
       " 'torres': 0.14440860215053763,\n",
       " 'tucker': 0.0,\n",
       " 'yang': 0.09247311827956989}"
      ]
     },
     "execution_count": 21,
     "metadata": {},
     "output_type": "execute_result"
    }
   ],
   "source": [
    "betweeness_centrality = nx.betweenness_centrality(GA)\n",
    "betweeness_centrality"
   ]
  },
  {
   "cell_type": "code",
   "execution_count": 22,
   "metadata": {
    "slideshow": {
     "slide_type": "subslide"
    }
   },
   "outputs": [
    {
     "data": {
      "text/plain": [
       "[('sloan', 0.248100358422939),\n",
       " ('karev', 0.20487455197132612),\n",
       " ('altman', 0.16344086021505377),\n",
       " ('torres', 0.14440860215053763),\n",
       " ('owen', 0.12903225806451613)]"
      ]
     },
     "execution_count": 22,
     "metadata": {},
     "output_type": "execute_result"
    }
   ],
   "source": [
    "# top 5\n",
    "sorted(betweeness_centrality.items(), key=lambda x: x[1], reverse=True)[:5]"
   ]
  },
  {
   "cell_type": "markdown",
   "metadata": {
    "slideshow": {
     "slide_type": "slide"
    }
   },
   "source": [
    "## Eigenvector Centrality\n",
    "\n",
    "A node is high in eigenvector centrality if it is connected to many other nodes who are themselves well connected. Eigenvector centrality for each node is simply calculated as the proportional eigenvector values of the eigenvector with the largest eigenvalue.\n",
    "\n",
    "<img align=\"middle\" src=\"https://upload.wikimedia.org/wikipedia/commons/thumb/1/11/6_centrality_measures.png/350px-6_centrality_measures.png\">\n",
    "\n",
    "_**Middle Left (\"C\"):** Eigenvector Centrality.  **Middle Right (\"D\"):** Degree Centrality_\n",
    "\n"
   ]
  },
  {
   "cell_type": "code",
   "execution_count": 23,
   "metadata": {
    "slideshow": {
     "slide_type": "subslide"
    }
   },
   "outputs": [
    {
     "data": {
      "text/plain": [
       "{'addison': 0.27840139594529484,\n",
       " 'adele': 5.058876862528936e-17,\n",
       " 'altman': 0.10442628192357334,\n",
       " 'arizona': 0.10564201543690817,\n",
       " 'avery': 0.07734385472828524,\n",
       " 'bailey': -2.195339193913248e-16,\n",
       " 'ben': -1.5057529497486453e-16,\n",
       " 'chief': 4.108700022015808e-17,\n",
       " 'colin': 0.0035243897348137374,\n",
       " 'denny': 0.0832030185430171,\n",
       " 'derek': 0.12570740328311875,\n",
       " 'ellis grey': 1.969945244481185e-18,\n",
       " 'finn': 0.04422017135181157,\n",
       " 'grey': 0.1510783608855737,\n",
       " 'hank': 0.08320301854301704,\n",
       " 'izzie': 0.28426338654827654,\n",
       " 'karev': 0.5027687871890412,\n",
       " 'kepner': 0.14715887695313748,\n",
       " 'lexi': 0.2642455341015448,\n",
       " 'mrs. seabury': 0.14715887695313762,\n",
       " 'nancy': 0.09444834886225349,\n",
       " \"o'malley\": 0.3020119709505961,\n",
       " 'olivia': 0.23555685153699446,\n",
       " 'owen': 0.03408964112637771,\n",
       " 'preston': 0.003524389734813675,\n",
       " 'sloan': 0.32268309457542504,\n",
       " 'steve': 0.044220171351811575,\n",
       " 'susan grey': -2.2838591730981282e-17,\n",
       " 'thatch grey': -2.687699295880897e-17,\n",
       " 'torres': 0.36092629324926223,\n",
       " 'tucker': -1.3686099029957458e-16,\n",
       " 'yang': 0.01204108912245926}"
      ]
     },
     "execution_count": 23,
     "metadata": {},
     "output_type": "execute_result"
    }
   ],
   "source": [
    "eigenvector_centrality = nx.eigenvector_centrality_numpy(GA)\n",
    "eigenvector_centrality"
   ]
  },
  {
   "cell_type": "code",
   "execution_count": 24,
   "metadata": {
    "slideshow": {
     "slide_type": "subslide"
    }
   },
   "outputs": [
    {
     "data": {
      "text/plain": [
       "[('karev', 1.0),\n",
       " ('torres', 0.7178772876239707),\n",
       " ('sloan', 0.6418121068722911),\n",
       " (\"o'malley\", 0.6006975346244785),\n",
       " ('izzie', 0.5653958515157256)]"
      ]
     },
     "execution_count": 24,
     "metadata": {},
     "output_type": "execute_result"
    }
   ],
   "source": [
    "max_value = max(eigenvector_centrality.items(), key=lambda x: x[1])\n",
    "\n",
    "ec_scaled = {}\n",
    "for k in eigenvector_centrality.keys():\n",
    "    ec_scaled[k] = eigenvector_centrality[k] / max_value[1]\n",
    "\n",
    "# Scaled by the most central character (karev)\n",
    "sorted(ec_scaled.items(), key=lambda x:x[1], reverse=True)[0:5]"
   ]
  },
  {
   "cell_type": "markdown",
   "metadata": {
    "slideshow": {
     "slide_type": "slide"
    }
   },
   "source": [
    "## Other Centrality Measures\n",
    "\n",
    "* [Harmonic Centrality](https://networkx.readthedocs.io/en/latest/reference/generated/networkx.algorithms.centrality.harmonic_centrality.html)\n",
    "* [Katz Centrality](https://en.wikipedia.org/wiki/Katz_centrality)\n",
    "* [Game Theoretic Centrality](http://game-theoretic-centrality.com/)\n"
   ]
  },
  {
   "cell_type": "code",
   "execution_count": null,
   "metadata": {},
   "outputs": [],
   "source": []
  }
 ],
 "metadata": {
  "celltoolbar": "Slideshow",
  "kernelspec": {
   "display_name": "Python 3",
   "language": "python",
   "name": "python3"
  },
  "language_info": {
   "codemirror_mode": {
    "name": "ipython",
    "version": 3
   },
   "file_extension": ".py",
   "mimetype": "text/x-python",
   "name": "python",
   "nbconvert_exporter": "python",
   "pygments_lexer": "ipython3",
   "version": "3.7.6"
  }
 },
 "nbformat": 4,
 "nbformat_minor": 1
}
